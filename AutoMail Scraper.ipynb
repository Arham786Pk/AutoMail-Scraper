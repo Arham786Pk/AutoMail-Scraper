{
 "cells": [
  {
   "cell_type": "code",
   "execution_count": null,
   "id": "b448360a-aa2c-4a78-9e9b-71747629d28f",
   "metadata": {},
   "outputs": [
    {
     "name": "stdin",
     "output_type": "stream",
     "text": [
      "Enter Web Url :-  https://www.faaynoon.com/\n"
     ]
    },
    {
     "name": "stdout",
     "output_type": "stream",
     "text": [
      "Extracted Emails: ['support@faaynoon.comFollow']\n"
     ]
    },
    {
     "name": "stdin",
     "output_type": "stream",
     "text": [
      "Enter Your Email :-  malikaikram31@gmail.com\n",
      "Enter Password :-  udvs azjj uble hlhp\n"
     ]
    }
   ],
   "source": [
    "import requests\n",
    "from bs4 import BeautifulSoup\n",
    "import re\n",
    "import smtplib\n",
    "from email.mime.text import MIMEText\n",
    "from email.mime.multipart import MIMEMultipart\n",
    "\n",
    "# Function to extract emails from a website\n",
    "def extract_emails(url):\n",
    "    try:\n",
    "        # Send a GET request to the website\n",
    "        response = requests.get(url)\n",
    "        response.raise_for_status()\n",
    "        \n",
    "        # Parse the HTML content using BeautifulSoup\n",
    "        soup = BeautifulSoup(response.text, 'html.parser')\n",
    "        \n",
    "        # Find all text in the HTML\n",
    "        text = soup.get_text()\n",
    "        \n",
    "        # Use regex to find email addresses\n",
    "        emails = re.findall(r'[a-zA-Z0-9_.+-]+@[a-zA-Z0-9-]+\\.[a-zA-Z0-9-.]+', text)\n",
    "        \n",
    "        # Remove duplicates\n",
    "        unique_emails = list(set(emails))\n",
    "        \n",
    "        return unique_emails\n",
    "    except Exception as e:\n",
    "        print(f\"Error extracting emails: {e}\")\n",
    "        return []\n",
    "\n",
    "# Function to send emails\n",
    "def send_email(sender_email, sender_password, receiver_emails, subject, body):\n",
    "    try:\n",
    "        # Set up the SMTP server\n",
    "        server = smtplib.SMTP('smtp.gmail.com', 587)\n",
    "        server.starttls()\n",
    "        server.login(sender_email, sender_password)\n",
    "        \n",
    "        # Create the email\n",
    "        for receiver_email in receiver_emails:\n",
    "            msg = MIMEMultipart()\n",
    "            msg['From'] = sender_email\n",
    "            msg['To'] = receiver_email\n",
    "            msg['Subject'] = subject\n",
    "            \n",
    "            msg.attach(MIMEText(body, 'plain'))\n",
    "            \n",
    "            # Send the email\n",
    "            server.sendmail(sender_email, receiver_email, msg.as_string())\n",
    "            print(f\"Email sent to {receiver_email}\")\n",
    "        \n",
    "        # Close the SMTP server\n",
    "        server.quit()\n",
    "    except Exception as e:\n",
    "        print(f\"Error sending email: {e}\")\n",
    "\n",
    "# Main function\n",
    "def main():\n",
    "    # Input website URL\n",
    "    url = input(\"Enter Web Url :- \")\n",
    "    \n",
    "    # Extract emails\n",
    "    emails = extract_emails(url)\n",
    "    print(f\"Extracted Emails: {emails}\")\n",
    "    \n",
    "    # Filter emails (if needed)\n",
    "    # You can add additional filtering logic here\n",
    "    \n",
    "    # Input email details\n",
    "    sender_email = input(\"Enter Your Email :- \") \n",
    "    sender_password = input(\"Enter Password :- \")\n",
    "    subject = input(\"Email Subject :- \")\n",
    "    body = input(\"Email Body :- \")\n",
    "    \n",
    "    # Send emails\n",
    "    send_email(sender_email, sender_password, emails, subject, body)\n",
    "\n",
    "if __name__ == \"__main__\":\n",
    "    main()"
   ]
  },
  {
   "cell_type": "code",
   "execution_count": null,
   "id": "2921d76b-a0ac-4a6d-937f-f89ac9475b47",
   "metadata": {},
   "outputs": [],
   "source": []
  }
 ],
 "metadata": {
  "kernelspec": {
   "display_name": "Python [conda env:base] *",
   "language": "python",
   "name": "conda-base-py"
  },
  "language_info": {
   "codemirror_mode": {
    "name": "ipython",
    "version": 3
   },
   "file_extension": ".py",
   "mimetype": "text/x-python",
   "name": "python",
   "nbconvert_exporter": "python",
   "pygments_lexer": "ipython3",
   "version": "3.12.7"
  }
 },
 "nbformat": 4,
 "nbformat_minor": 5
}
